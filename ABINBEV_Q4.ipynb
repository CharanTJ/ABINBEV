{
 "cells": [
  {
   "cell_type": "code",
   "execution_count": 1,
   "id": "4d981822",
   "metadata": {},
   "outputs": [
    {
     "name": "stdout",
     "output_type": "stream",
     "text": [
      "Sentiment Analysis Results for Leffe Variants:\n",
      "  Flavour Name  Sentiment Score\n",
      "0       Blonde         0.505789\n",
      "1        Brune         0.634433\n",
      "2         Ruby         0.523210\n"
     ]
    }
   ],
   "source": [
    "import pandas as pd\n",
    "from nltk.sentiment import SentimentIntensityAnalyzer\n",
    "\n",
    "\n",
    "ecommerce_reviews_data = pd.read_excel(\"Dataset.xlsx\", sheet_name=\"E-Commerce Reviews_Data\",skiprows=5)\n",
    "\n",
    "sia = SentimentIntensityAnalyzer()\n",
    "\n",
    "e\n",
    "ecommerce_reviews_data['Sentiment Score'] = ecommerce_reviews_data['Review'].apply(lambda x: sia.polarity_scores(x)['compound'])\n",
    "\n",
    "\n",
    "ecommerce_reviews_data['Sentiment'] = ecommerce_reviews_data['Sentiment Score'].apply(lambda x: 'positive' if x >= 0.05 else ('negative' if x <= -0.05 else 'neutral'))\n",
    "\n",
    "\n",
    "variant_sentiments = ecommerce_reviews_data.groupby('Flavour Name')['Sentiment Score'].mean().reset_index()\n",
    "\n",
    "\n",
    "print(\"Sentiment Analysis Results for Leffe Variants:\")\n",
    "print(variant_sentiments[['Flavour Name', 'Sentiment Score']])\n"
   ]
  },
  {
   "cell_type": "code",
   "execution_count": 2,
   "id": "43fbb572",
   "metadata": {},
   "outputs": [
    {
     "name": "stdout",
     "output_type": "stream",
     "text": [
      "Sentiment Analysis Results for E-Commerce Reviews:\n",
      "   Flavour Name                                             Review  \\\n",
      "0        Blonde  I really like this beer but I want the rest of...   \n",
      "1          Ruby  rubbish, when I ordered it was two days premiu...   \n",
      "2          Ruby  This is a Berry flavoured beer and tastes real...   \n",
      "3          Ruby  Sorry to say didn’t like this at all, but wort...   \n",
      "4          Ruby  Buyer beware.\\nAfter reading reviews about how...   \n",
      "..          ...                                                ...   \n",
      "68       Blonde  This is, in my opinion, the best lager you can...   \n",
      "69       Blonde  I would recommend this to any fans of quality ...   \n",
      "70       Blonde  I would definitely recommend. Great Beer.\\nGoo...   \n",
      "71       Blonde  \"The Leffe Blonde Belgian Abbey Beer is a must...   \n",
      "72       Blonde     Got this discounted so was a no brainer to buy   \n",
      "\n",
      "    Sentiment Score Sentiment  \n",
      "0            0.3284  positive  \n",
      "1           -0.4588  negative  \n",
      "2            0.7843  positive  \n",
      "3            0.8402  positive  \n",
      "4            0.3802  positive  \n",
      "..              ...       ...  \n",
      "68           0.1508  positive  \n",
      "69           0.3612  positive  \n",
      "70           0.8402  positive  \n",
      "71           0.9638  positive  \n",
      "72          -0.3134  negative  \n",
      "\n",
      "[73 rows x 4 columns]\n"
     ]
    }
   ],
   "source": [
    "sia = SentimentIntensityAnalyzer()\n",
    "\n",
    "\n",
    "ecommerce_reviews_data['Sentiment Score'] = ecommerce_reviews_data['Review'].apply(lambda x: sia.polarity_scores(x)['compound'])\n",
    "\n",
    "\n",
    "ecommerce_reviews_data['Sentiment'] = ecommerce_reviews_data['Sentiment Score'].apply(lambda x: 'positive' if x >= 0.05 else ('negative' if x <= -0.05 else 'neutral'))\n",
    "\n",
    "\n",
    "print(\"Sentiment Analysis Results for E-Commerce Reviews:\")\n",
    "print(ecommerce_reviews_data[['Flavour Name', 'Review', 'Sentiment Score', 'Sentiment']])\n"
   ]
  },
  {
   "cell_type": "code",
   "execution_count": 3,
   "id": "cdfaa107",
   "metadata": {},
   "outputs": [
    {
     "name": "stdout",
     "output_type": "stream",
     "text": [
      "Sentiment Counts for Each Leffe Variant:\n",
      "Sentiment Flavour Name  negative  neutral  positive\n",
      "0               Blonde       1.0      1.0      17.0\n",
      "1                Brune       NaN      NaN      12.0\n",
      "2                 Ruby       5.0      2.0      35.0\n"
     ]
    }
   ],
   "source": [
    "\n",
    "sentiment_counts = ecommerce_reviews_data.groupby(['Flavour Name', 'Sentiment'])['Review'].count().unstack().reset_index()\n",
    "\n",
    "\n",
    "print(\"Sentiment Counts for Each Leffe Variant:\")\n",
    "print(sentiment_counts)\n"
   ]
  },
  {
   "cell_type": "code",
   "execution_count": null,
   "id": "ece924b3",
   "metadata": {},
   "outputs": [],
   "source": []
  }
 ],
 "metadata": {
  "kernelspec": {
   "display_name": "Python 3 (ipykernel)",
   "language": "python",
   "name": "python3"
  },
  "language_info": {
   "codemirror_mode": {
    "name": "ipython",
    "version": 3
   },
   "file_extension": ".py",
   "mimetype": "text/x-python",
   "name": "python",
   "nbconvert_exporter": "python",
   "pygments_lexer": "ipython3",
   "version": "3.11.4"
  }
 },
 "nbformat": 4,
 "nbformat_minor": 5
}
