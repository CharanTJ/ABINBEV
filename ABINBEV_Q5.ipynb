{
 "cells": [
  {
   "cell_type": "code",
   "execution_count": 1,
   "id": "af4a44ec",
   "metadata": {},
   "outputs": [
    {
     "name": "stdout",
     "output_type": "stream",
     "text": [
      "Top Related Queries/Search and Interest Score:\n",
      "   Top Related Queries/Search Interest Score\n",
      "0                       leffe            100\n",
      "1                  leffe beer             43\n",
      "2                leffe blonde             22\n",
      "3                 leffe glass              7\n",
      "4           leffe blonde beer              7\n",
      "5                 blonde beer              7\n",
      "6                  ruby leffe              4\n",
      "7                 leffe brune              4\n",
      "8            leffe percentage              3\n",
      "9            leffe beer glass              3\n",
      "10                leffe blond              2\n",
      "11              leffe glasses              2\n",
      "12               belgian beer              1\n",
      "13            leffe ruby beer              1\n",
      "14    leffe blonde percentage              1\n",
      "15                 pint in ml             <1\n"
     ]
    }
   ],
   "source": [
    "import pandas as pd\n",
    "\n",
    "\n",
    "google_search_data = pd.read_excel(\"Dataset.xlsx\", sheet_name=\"Google Search_Data\", skiprows= 7)\n",
    "\n",
    "\n",
    "print(\"Top Related Queries/Search and Interest Score:\")\n",
    "print(google_search_data[['Top Related Queries/Search', 'Interest Score']].dropna())\n",
    "\n"
   ]
  },
  {
   "cell_type": "code",
   "execution_count": 2,
   "id": "bd65b68d",
   "metadata": {},
   "outputs": [
    {
     "name": "stdout",
     "output_type": "stream",
     "text": [
      "\n",
      "Top Keywords and Interest Score:\n",
      "                    Keyword  Avg. monthly searches\n",
      "0                     leffe                 5400.0\n",
      "1                leffe beer                 8100.0\n",
      "2              leffe blonde                 4400.0\n",
      "3                leffe ruby                 1000.0\n",
      "4               leffe brune                  880.0\n",
      "..                      ...                    ...\n",
      "296         leffe xmas beer                   40.0\n",
      "297         asda leffe ruby                   20.0\n",
      "298  leffe brune dan murphy                   10.0\n",
      "299   sainsburys leffe beer                   10.0\n",
      "300        leffe bruna pret                   10.0\n",
      "\n",
      "[294 rows x 2 columns]\n"
     ]
    }
   ],
   "source": [
    "\n",
    "print(\"\\nTop Keywords and Interest Score:\")\n",
    "print(google_search_data[['Keyword', 'Avg. monthly searches']].dropna())\n"
   ]
  }
 ],
 "metadata": {
  "kernelspec": {
   "display_name": "Python 3 (ipykernel)",
   "language": "python",
   "name": "python3"
  },
  "language_info": {
   "codemirror_mode": {
    "name": "ipython",
    "version": 3
   },
   "file_extension": ".py",
   "mimetype": "text/x-python",
   "name": "python",
   "nbconvert_exporter": "python",
   "pygments_lexer": "ipython3",
   "version": "3.11.4"
  }
 },
 "nbformat": 4,
 "nbformat_minor": 5
}
