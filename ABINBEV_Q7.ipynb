{
 "cells": [
  {
   "cell_type": "code",
   "execution_count": 20,
   "id": "26acb3ac",
   "metadata": {},
   "outputs": [
    {
     "name": "stdout",
     "output_type": "stream",
     "text": [
      "User Engagement Data (Website Mentions Only):\n",
      "    Sl.No                             Social Mention/Comment Sentiment\n",
      "27     28  @DulyObligated @k1ump @MasonicBeer @Leffe @LDN...   neutral\n"
     ]
    }
   ],
   "source": [
    "import pandas as pd\n",
    "\n",
    "\n",
    "social_data = pd.read_excel(\"Dataset.xlsx\", sheet_name=\"Social Listening_Data\", skiprows= 5)\n",
    "\n",
    "\n",
    "user_engagement_data = social_data[['Sl.No','Social Mention/Comment','Sentiment']]\n",
    "\n",
    "\n",
    "website_mentions = user_engagement_data[user_engagement_data['Social Mention/Comment'].str.contains('website|site|online', case=False, na=False)]\n",
    "\n",
    "\n",
    "print(\"User Engagement Data (Website Mentions Only):\")\n",
    "print(website_mentions)\n"
   ]
  },
  {
   "cell_type": "code",
   "execution_count": 3,
   "id": "4187fea0",
   "metadata": {},
   "outputs": [
    {
     "name": "stdout",
     "output_type": "stream",
     "text": [
      "User Feedback and Reviews Data (Website Related Comments):\n",
      "Empty DataFrame\n",
      "Columns: [Flavour Name, Review]\n",
      "Index: []\n"
     ]
    }
   ],
   "source": [
    "ecommerce_reviews_data = pd.read_excel(\"Dataset.xlsx\", sheet_name=\"E-Commerce Reviews_Data\", skiprows=5)\n",
    "user_reviews_data = ecommerce_reviews_data[['Flavour Name', 'Review']]\n",
    "\n",
    "\n",
    "website_related_comments = user_reviews_data[user_reviews_data['Review'].str.contains('website|online|ordering', case=False, na=False)]\n",
    "\n",
    "print(\"User Feedback and Reviews Data (Website Related Comments):\")\n",
    "print(website_related_comments.head())\n"
   ]
  },
  {
   "cell_type": "code",
   "execution_count": 21,
   "id": "b748b2a7",
   "metadata": {},
   "outputs": [
    {
     "name": "stdout",
     "output_type": "stream",
     "text": [
      "Brand Perception Data (Website Related Comments):\n",
      "Empty DataFrame\n",
      "Columns: [InMarket Facilitators , 2020 (NET), 2021 (NET), 2022 (NET), H1'20, H1'21, H1'22, H1'23]\n",
      "Index: []\n"
     ]
    }
   ],
   "source": [
    "brand_tracking_data = pd.read_excel(\"Dataset.xlsx\", sheet_name=\"Brand Tracking_Data\",skiprows=11)\n",
    "first = brand_tracking_data.columns[0]\n",
    "\n",
    "brand_perception_data = brand_tracking_data[[first, '2020 (NET)', '2021 (NET)', '2022 (NET)', 'H1\\'20', 'H1\\'21', 'H1\\'22', 'H1\\'23']]\n",
    "\n",
    "\n",
    "website_related_comments = brand_perception_data[brand_perception_data[first].str.contains('website|online|digital', case=False, na=False)]\n",
    "\n",
    "\n",
    "print(\"Brand Perception Data (Website Related Comments):\")\n",
    "print(website_related_comments.head())\n"
   ]
  },
  {
   "cell_type": "code",
   "execution_count": null,
   "id": "d9fe36c2",
   "metadata": {},
   "outputs": [],
   "source": []
  }
 ],
 "metadata": {
  "kernelspec": {
   "display_name": "Python 3 (ipykernel)",
   "language": "python",
   "name": "python3"
  },
  "language_info": {
   "codemirror_mode": {
    "name": "ipython",
    "version": 3
   },
   "file_extension": ".py",
   "mimetype": "text/x-python",
   "name": "python",
   "nbconvert_exporter": "python",
   "pygments_lexer": "ipython3",
   "version": "3.11.4"
  }
 },
 "nbformat": 4,
 "nbformat_minor": 5
}
