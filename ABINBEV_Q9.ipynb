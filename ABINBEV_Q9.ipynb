{
 "cells": [
  {
   "cell_type": "code",
   "execution_count": 1,
   "id": "cfc6e027",
   "metadata": {},
   "outputs": [
    {
     "name": "stdout",
     "output_type": "stream",
     "text": [
      "Facilitators with a Decline:\n",
      "InMarket Facilitators \n",
      "It was at a good price                                                              3\n",
      "It was served in special glassware or bottles                                       2\n",
      "It had the amount of alcohol (ABV) that I wanted                                    2\n",
      "It came in the format I wanted (e.g. bottle, can, draught)                          3\n",
      "It was easy to find                                                                 2\n",
      "It was on sale, special, or promotion                                               4\n",
      "I liked the packaging                                                               3\n",
      "It was available on tap or draught                                                  2\n",
      "It was recommended to me                                                            3\n",
      "It came in flavours and types I like (e.g. Light, Fruit, etc.)                      3\n",
      "It came in the pack size I wanted and others didn't (i.e. 6 pack, 12 pack, etc.)    4\n",
      "It was a product I had not tried before                                             3\n",
      "It had promotional material (e.g. poster, sign, etc.) displayed                     2\n",
      "It was a new product                                                                2\n",
      "Other brand (s) I usually buy were not available                                    3\n",
      "It included a gift or free sample                                                   4\n",
      "I haven't bought it recently                                                        3\n",
      "dtype: int64\n"
     ]
    }
   ],
   "source": [
    "import pandas as pd\n",
    "brand_tracking_data = pd.read_excel(\"Dataset.xlsx\", sheet_name=\"Brand Tracking_Data\", skiprows=11)\n",
    "first = brand_tracking_data.columns[0]\n",
    "brand_perception_data = brand_tracking_data[[first, '2020 (NET)', '2021 (NET)', '2022 (NET)', 'H1\\'20', 'H1\\'21', 'H1\\'22', 'H1\\'23']]\n",
    "facilitator_change = brand_perception_data.set_index(first).pct_change(axis=1)\n",
    "decline_facilitators = facilitator_change.apply(lambda x: x < 0).sum(axis=1)\n",
    "print(\"Facilitators with a Decline:\")\n",
    "print(decline_facilitators[decline_facilitators > 0])\n"
   ]
  },
  {
   "cell_type": "code",
   "execution_count": null,
   "id": "d432ae00",
   "metadata": {},
   "outputs": [],
   "source": []
  }
 ],
 "metadata": {
  "kernelspec": {
   "display_name": "Python 3 (ipykernel)",
   "language": "python",
   "name": "python3"
  },
  "language_info": {
   "codemirror_mode": {
    "name": "ipython",
    "version": 3
   },
   "file_extension": ".py",
   "mimetype": "text/x-python",
   "name": "python",
   "nbconvert_exporter": "python",
   "pygments_lexer": "ipython3",
   "version": "3.11.4"
  }
 },
 "nbformat": 4,
 "nbformat_minor": 5
}
