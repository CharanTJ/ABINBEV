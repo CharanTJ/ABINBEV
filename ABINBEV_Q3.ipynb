{
 "cells": [
  {
   "cell_type": "code",
   "execution_count": 1,
   "id": "7da4214d",
   "metadata": {},
   "outputs": [
    {
     "name": "stderr",
     "output_type": "stream",
     "text": [
      "[nltk_data] Downloading package vader_lexicon to\n",
      "[nltk_data]     C:\\Users\\Jagarlamudi\\AppData\\Roaming\\nltk_data...\n",
      "[nltk_data]   Package vader_lexicon is already up-to-date!\n"
     ]
    },
    {
     "data": {
      "text/plain": [
       "True"
      ]
     },
     "execution_count": 1,
     "metadata": {},
     "output_type": "execute_result"
    }
   ],
   "source": [
    "import nltk\n",
    "nltk.download('vader_lexicon')\n",
    "\n"
   ]
  },
  {
   "cell_type": "code",
   "execution_count": 2,
   "id": "f6a9592c",
   "metadata": {},
   "outputs": [
    {
     "name": "stdout",
     "output_type": "stream",
     "text": [
      "Mentions of 'Yum':\n",
      "1. @R1100GSBlueNose I'm on the Leffe. Yum!\n",
      "\n",
      "\n",
      "Mentions of 'flavor':\n",
      "\n",
      "\n",
      "Mentions of 'taste':\n",
      "1. Thought Leffe was meant to be nice why does it taste rank\n",
      "2. @cluelesspegg Leffe 0% is my favourite, the vanilla taste is 🙌🏼\n",
      "\n",
      "\n",
      "Mentions of 'enjoy':\n",
      "1. Time to just sit and enjoy a Leffe spring from the perfect draft https://t.co/p54oZrnefK\n",
      "2. I must admit I wasn’t overly enjoying the Leffe last night.. think that was more because I actually wasn’t in the mood (for a change) .. Tonight, it’s a different story. LEFFE LA LÉGÈRE going down nicely. Happy Saturday 😎 What’s the correct word for Cheers in Belgium? 🇧🇪 https://t.co/bIYV44e8PN\n",
      "3. @retropudders Yeah had a good run on the supermarket reds, I enjoyed sampling some of them during lockdown 2020, I'm a big fan of Leffe, but it's strong and doesn't work well for long distance, hence deciding on a slightly lower % craft beer, but also having a qaulity smooth delivery\n",
      "4. Happy birthday @Stuart_PhotoAFC Lovely photo on that lanyard in the first photo mate. Enjoy the Leffes 🍻\n",
      "\n",
      "\n",
      "Mentions of 'refreshing':\n",
      "\n",
      "\n",
      "Mentions of 'occasion':\n",
      "\n",
      "\n",
      "Mentions of 'pairing':\n",
      "\n",
      "\n",
      "Mentions of 'quality':\n",
      "\n",
      "\n",
      "Mentions of 'loyalty':\n",
      "\n",
      "\n",
      "Mentions of 'great':\n",
      "1. Had a great day hoovering, building furniture and sitting drinking Leffe in the garden with friends. Because, well, anything but that.\n",
      "2. @piko_6 Great the old skinny burger innit. Although I'd switch to Leffe now if I were you.....more bang for your buck.\n",
      "3. @fi_bee_9 @LaTrappeBeer @TerDolen @DuvelUK @DuvelUSA @DuvelBelgium @Hoegaarden_beer @LaChouffeGnome @Leffe @StBernardus1 @Affligembeer Ha! Yes, I'll be spreading them out! Maybe have a couple after dinner tomorrow. Have great Christmas 👍🎄🍻\n",
      "4. #FathersDay one of my daughters got me a rack of ribs and made a lovely sauce.....omg, so good and great before the F1. Also had a lovely brunch with her (and still to crack open the Leffe)! https://t.co/Jw9lA7zAWP\n",
      "5. Biggest win and strongest performance to date from @scarlettdubs Tough matches tomorrow. Amazing first overseas ITF experience. Great encouragement from peers. Very chuffed. Leffe time…\n",
      "\n",
      "\n",
      "Mentions of 'delicious':\n",
      "1. @ladbible Leffe on Draft amazing or Unpasteurised Furstenberg delicious 😋\n",
      "2. Photo of my empty leffe glass aimed at the TV .oh the leffe was delicious https://t.co/onUzYcU8Lr\n",
      "\n",
      "\n"
     ]
    }
   ],
   "source": [
    "import pandas as pd\n",
    "\n",
    "\n",
    "social_data = pd.read_excel(\"Dataset.xlsx\", sheet_name=\"Social Listening_Data\", skiprows=5)\n",
    "\n",
    "\n",
    "positive_data = social_data[social_data['Sentiment'] == 'positive']\n",
    "\n",
    "\n",
    "positive_comments = positive_data['Social Mention/Comment']\n",
    "\n",
    "keywords = ['Yum','flavor', 'taste', 'enjoy', 'refreshing', 'occasion', 'pairing', 'quality', 'loyalty','great','delicious']\n",
    "\n",
    "keyword_mentions_dict = {keyword: [] for keyword in keywords}\n",
    "\n",
    "for keyword in keywords:\n",
    "    keyword_mentions = positive_comments[positive_comments.str.contains(keyword, case=False)]\n",
    "    keyword_mentions_dict[keyword] = list(keyword_mentions)\n",
    "\n",
    "\n",
    "for keyword, mentions in keyword_mentions_dict.items():\n",
    "    print(f\"Mentions of '{keyword}':\")\n",
    "    for idx, comment in enumerate(mentions):\n",
    "        print(f\"{idx + 1}. {comment}\")\n",
    "    print(\"\\n\")\n"
   ]
  },
  {
   "cell_type": "code",
   "execution_count": 6,
   "id": "84338e0e",
   "metadata": {},
   "outputs": [
    {
     "data": {
      "text/plain": [
       "0               @R1100GSBlueNose I'm on the Leffe. Yum!\n",
       "4     This is lovely!! - Drinking a Leffe Blonde / B...\n",
       "6     Had a great day hoovering, building furniture ...\n",
       "7     @O1Paul I don’t drink beer that often but when...\n",
       "11    @ladbible Leffe on Draft amazing or Unpasteuri...\n",
       "Name: Social Mention/Comment, dtype: object"
      ]
     },
     "execution_count": 6,
     "metadata": {},
     "output_type": "execute_result"
    }
   ],
   "source": [
    "positive_comments.head()"
   ]
  },
  {
   "cell_type": "code",
   "execution_count": 4,
   "id": "1ec35b64",
   "metadata": {},
   "outputs": [
    {
     "name": "stdout",
     "output_type": "stream",
     "text": [
      "Mentions of 'dislike':\n",
      "\n",
      "\n",
      "Mentions of 'complaints':\n",
      "\n",
      "\n",
      "Mentions of 'unpleasant':\n",
      "\n",
      "\n",
      "Mentions of 'issue':\n",
      "\n",
      "\n",
      "Mentions of 'problem':\n",
      "\n",
      "\n",
      "Mentions of 'concern':\n",
      "\n",
      "\n",
      "Mentions of 'Boo':\n",
      "1. Boooo Leffe! Boycott Leffe until they stop supporting #RussiaTerroristState\n",
      "\n",
      "\n"
     ]
    }
   ],
   "source": [
    "\n",
    "\n",
    "negative_data = social_data[social_data['Sentiment'] == 'negative']\n",
    "\n",
    "\n",
    "negative_comments = negative_data['Social Mention/Comment']\n",
    "\n",
    "keywords = ['dislike', 'complaints', 'unpleasant', 'issue', 'problem', 'concern', 'Boo']\n",
    "\n",
    "keyword_mentions_dict = {keyword: [] for keyword in keywords}\n",
    "\n",
    "\n",
    "for keyword in keywords:\n",
    "    keyword_mentions = negative_comments[negative_comments.str.contains(keyword, case=False)]\n",
    "    keyword_mentions_dict[keyword] = list(keyword_mentions)\n",
    "\n",
    "\n",
    "for keyword, mentions in keyword_mentions_dict.items():\n",
    "    print(f\"Mentions of '{keyword}':\")\n",
    "    for idx, comment in enumerate(mentions):\n",
    "        print(f\"{idx + 1}. {comment}\")\n",
    "    print(\"\\n\")"
   ]
  },
  {
   "cell_type": "code",
   "execution_count": 5,
   "id": "9fef2d2c",
   "metadata": {},
   "outputs": [
    {
     "data": {
      "text/plain": [
       "2      Watching In Brugges and not opening the big bo...\n",
       "3      @jules_wink Fist time I ordered a Leffe, I dra...\n",
       "30     Boooo Leffe! Boycott Leffe until they stop sup...\n",
       "31     @ColeThereum Youve been drinking that american...\n",
       "39     @KTCharlton @insidetrishow @KeithDCharlton Not...\n",
       "40     @LionelHtown He wouldn’t like it anyway, Leffe...\n",
       "54     @DaiDarlo @swansea_gav @marcel1710 @TitchJackA...\n",
       "58     @jeffreyjohnbell We sold Leffe for 9 years. Un...\n",
       "68      The abbey in Leuven is the Leffe factory, right?\n",
       "73     @onejasonknight I don't like Guinness, unf. Di...\n",
       "76     RT @OldWest1453 Those of you boycotting Bud Li...\n",
       "77     @CliffdotMac @The_Zogabongs No Leffe Brune tho...\n",
       "78     Jeez, couple of Leffes last night and the Whoo...\n",
       "85     @dudeville @Leffe Had my worst ever hangover f...\n",
       "114           That non-alcoholic Leffe tho. *chefs kiss*\n",
       "131    @Absolutemtb1 So I’m sensing a vibe to be on t...\n",
       "139    The Francis Newton, Sheffield. Not been in her...\n",
       "Name: Social Mention/Comment, dtype: object"
      ]
     },
     "execution_count": 5,
     "metadata": {},
     "output_type": "execute_result"
    }
   ],
   "source": [
    "negative_comments"
   ]
  },
  {
   "cell_type": "code",
   "execution_count": null,
   "id": "3437742b",
   "metadata": {},
   "outputs": [],
   "source": []
  }
 ],
 "metadata": {
  "kernelspec": {
   "display_name": "Python 3 (ipykernel)",
   "language": "python",
   "name": "python3"
  },
  "language_info": {
   "codemirror_mode": {
    "name": "ipython",
    "version": 3
   },
   "file_extension": ".py",
   "mimetype": "text/x-python",
   "name": "python",
   "nbconvert_exporter": "python",
   "pygments_lexer": "ipython3",
   "version": "3.11.4"
  }
 },
 "nbformat": 4,
 "nbformat_minor": 5
}
