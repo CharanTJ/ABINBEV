{
 "cells": [
  {
   "cell_type": "code",
   "execution_count": 1,
   "id": "6f114d3b",
   "metadata": {},
   "outputs": [
    {
     "name": "stdout",
     "output_type": "stream",
     "text": [
      "Requirement already satisfied: tabulate in c:\\users\\jagarlamudi\\anaconda3\\lib\\site-packages (0.8.10)\n",
      "Note: you may need to restart the kernel to use updated packages.\n"
     ]
    }
   ],
   "source": [
    "pip install tabulate"
   ]
  },
  {
   "cell_type": "code",
   "execution_count": 6,
   "id": "b57d6abc",
   "metadata": {},
   "outputs": [
    {
     "name": "stdout",
     "output_type": "stream",
     "text": [
      "+-------+------------------------------------------------------------+\n",
      "| Year  |                      Top Facilitator                       |\n",
      "+-------+------------------------------------------------------------+\n",
      "| 2020  |                   It was at a good price                   |\n",
      "| 2021  | It came in the format I wanted (e.g. bottle, can, draught) |\n",
      "| 2022  |                   It was at a good price                   |\n",
      "| H1'20 |                  It was recommended to me                  |\n",
      "| H1'21 |      It had the amount of alcohol (ABV) that I wanted      |\n",
      "| H1'22 | It came in the format I wanted (e.g. bottle, can, draught) |\n",
      "| H1'23 |                   It was at a good price                   |\n",
      "+-------+------------------------------------------------------------+\n"
     ]
    }
   ],
   "source": [
    "import pandas as pd\n",
    "from tabulate import tabulate\n",
    "brand_tracking_data = pd.read_excel('Dataset.xlsx', sheet_name=\"Brand Tracking_Data\", skiprows=11)\n",
    "first = brand_tracking_data.columns[0]\n",
    "\n",
    "\n",
    "\n",
    "brand_perception_data = brand_tracking_data[[first, '2020 (NET)', '2021 (NET)', '2022 (NET)', 'H1\\'20', 'H1\\'21', 'H1\\'22', 'H1\\'23']]\n",
    "\n",
    "\n",
    "facilitators_yearly_sum = brand_perception_data.groupby(first).sum()\n",
    "\n",
    "\n",
    "\n",
    "top_facilitators_2020 = facilitators_yearly_sum['2020 (NET)'].idxmax()\n",
    "top_facilitators_2021 = facilitators_yearly_sum['2021 (NET)'].idxmax()\n",
    "top_facilitators_2022 = facilitators_yearly_sum['2022 (NET)'].idxmax()\n",
    "top_facilitators_H1_2020 = facilitators_yearly_sum['H1\\'20'].idxmax()\n",
    "top_facilitators_H1_2021 = facilitators_yearly_sum['H1\\'21'].idxmax()\n",
    "top_facilitators_H1_2022 = facilitators_yearly_sum['H1\\'22'].idxmax()\n",
    "top_facilitators_H1_2023 = facilitators_yearly_sum['H1\\'23'].idxmax()\n",
    "\n",
    "\n",
    "data = {\n",
    "    'Year': ['2020', '2021', '2022', 'H1\\'20', 'H1\\'21', 'H1\\'22', 'H1\\'23'],\n",
    "    'Top Facilitator': [\n",
    "        top_facilitators_2020,\n",
    "        top_facilitators_2021,\n",
    "        top_facilitators_2022,\n",
    "        top_facilitators_H1_2020,\n",
    "        top_facilitators_H1_2021,\n",
    "        top_facilitators_H1_2022,\n",
    "        top_facilitators_H1_2023\n",
    "    ]\n",
    "}\n",
    "\n",
    "df_top_facilitators = pd.DataFrame(data)\n",
    "df_top_facilitators\n",
    "\n",
    "print(tabulate(df_top_facilitators, headers='keys', tablefmt='pretty', showindex=False))\n"
   ]
  },
  {
   "cell_type": "code",
   "execution_count": null,
   "id": "c603332d",
   "metadata": {},
   "outputs": [],
   "source": []
  }
 ],
 "metadata": {
  "kernelspec": {
   "display_name": "Python 3 (ipykernel)",
   "language": "python",
   "name": "python3"
  },
  "language_info": {
   "codemirror_mode": {
    "name": "ipython",
    "version": 3
   },
   "file_extension": ".py",
   "mimetype": "text/x-python",
   "name": "python",
   "nbconvert_exporter": "python",
   "pygments_lexer": "ipython3",
   "version": "3.11.4"
  }
 },
 "nbformat": 4,
 "nbformat_minor": 5
}
